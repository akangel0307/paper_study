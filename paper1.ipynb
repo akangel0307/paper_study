{
 "cells": [
  {
   "cell_type": "markdown",
   "metadata": {},
   "source": [
    "# 01. Paper Study (3/31)\n",
    "##  Real-time anomaly detection based on long short-Term memory and Gaussian Mixture Model\n",
    "- paper_link : https://bit.ly/3IttW0S\n",
    "- github_link : https://github.com/IoTLabDLUT/LGDAM"
   ]
  },
  {
   "cell_type": "markdown",
   "metadata": {},
   "source": [
    "---\n",
    "## 1) Abstract \n",
    "- 기존의 anomaly detection 알고리즘은 효율성(effectiveness)과 real-time capability requirements를 동시에 충족하는데 덜 적합하였다.\n",
    "- 해당 논문에서는 *LSTM*(Long-short Term Memory) 및 *GMM*(Gaussian Mixture Model)기반의 real-time anomaly detection 알고리즘인 *LGMAD*를 제안하였다. \n",
    "\n",
    "### 논문 컨셉\n",
    "- 구제척으로, LSTM 모델을 통해 각*Univariate Time-series의 real-time anomaly 를 평가하고, GMM을 통해 가능한 anomaly 에 대한 *multidimensional joint 를 제공한다. \n",
    "\n",
    "### 활용한 데이터 \n",
    "- NAB dataset과 self-made dataset 모두 approach하는데 사용함. 또한 기존의 이상탐지 알고리즘과 비교하였음. "
   ]
  },
  {
   "cell_type": "markdown",
   "metadata": {},
   "source": [
    "### 용어 공부\n",
    "- *Univarate timeseries \n",
    "    - '시간-기온', '시간-풍속' 과 같이 시간에 종속되는 변수가 하나뿐인 경우를 Univarate Time Series 하고 한다. 반대로 날씨를 예를들면 강수량, 습도, 바람 등이 복합적으로 고려되어야 날씨를 예측할 수 있으며, 이렇게 각각의 종속 변수가 시간뿐만 아니라 다른 종속 변수에도 영향을 받아 복잡한 시계열을 이루는 경우를 Multivariate Time Series 라고 한다.  \n",
    "- *multidimensional joint\n",
    "    - 다차원 결합을 제공한다는게 무엇인가? GMM 공부를 해야 알수 있는 내용? "
   ]
  },
  {
   "cell_type": "markdown",
   "metadata": {},
   "source": [
    "---\n",
    "---\n",
    "## 2) Introduction \n",
    "- 이상탐지는 많은 이슈가 되고있으며, 이상 지점 또는 이상영역을 감지하고 찾는건 중요한 정보를 제공할수 있다고함. \n",
    "- 특히, Time-series 데이터에 대한 이상탐지는 산업, 금융, 군사, 의료, 보험, 중요 시스템 보안, 로봇공학, 다중 에이전트, 네트워크 보안 및 사물 인터넷 분야에서 매우 중요하다. [1],[2]\n",
    "\n",
    "- 실제 이상탐지로 시스템 붕괴를 막은 예시 [3]\n",
    "- 이상 탐지의 중요성을 보여주는 예시로, 애플리케이션에서 이상탐지로 개발을 가속화 한 케이스 [4],[5]"
   ]
  },
  {
   "cell_type": "markdown",
   "metadata": {},
   "source": [
    "---\n",
    "### 본론 \n",
    "- 이 논문에서는 low-dimension parameter 를 사용하여 시스템의 anomaly states 를 특성화 하는 application 을 제안하며, 이를 LGMAD 로 제안함. TODO: Q) low-dimension으로 anomaly states 를 특성화하면 간편하긴해도 정확성 측면에서 문제가 되지 않을까? \n",
    "\n",
    "- LSTM-BP algorithm을 사용하여 univarate time-series 감지를 기반으로, Gaussian model은 multivariate time-series 에 대한 anomaly detection 을 수행하는데 사용된다. \n",
    "\n",
    "- 제안된 알고리즘은 어떠한 사전 지식 없이도 이상 탐지에 적용할 수 있으며, 뛰어난 성능으로 이상 탐지율을 향상 시켰다. \n",
    "    - LGMAD 알고리즘이 HTM알고리즘보다 성능이 우수하고 LSTM 기반 Predictive Data Model 알고리즘보다 우수한 것으로 나타났다. \n",
    "\n",
    "- 이 논문은 고차원 또는 초고차원 이상탐지대신, 시스템 이상 탐지를 특성화 하기 위한 저차원 응용에 중점을 둔다.\n",
    "- 고차원 및 초고차원의 경우 PCA와 같은 차원 축소를 통해 제한한다. \n",
    "    - 이 방법은 제대로 다루고있지 않다. "
   ]
  },
  {
   "cell_type": "markdown",
   "metadata": {},
   "source": [
    "---\n",
    "이 논문은 세가지 측면을 다룬다. \n",
    "\n",
    "1. low-dimension parameter는 system의 anomaly detection 을 특성화 하는데 사용되며, 이 알고리즘의 이름은 LGMAD 다. 정확성과 실시간 요구 사항을 동시에 보장하기 위해 Gaussian Mixture Model을 기반으로 한다.\n",
    "\n",
    "2. 전통적인 LSTM은 모든 데이터 세트에서 일관되게 동일한 좋은 결과를 얻을 수 없다. 따라서 LSTM 기반의 LSTM-BP를 제안하고 LSTM 내부 구조를 개선하여 데이터 시계열 이상 탐지 처리에 적합 하도록 한다.\n",
    "\n",
    "3. 알고리즘 효율성을 향상 시키기 위해 시스템의 성능을 평가하는 health factor alpha를 도입한다. TODO:(가장 알맞은 alpha 값을 health factor 라고 하는가?)\n"
   ]
  },
  {
   "cell_type": "markdown",
   "metadata": {},
   "source": [
    "---\n",
    "읽어봐야 알겠지만, 이 논문은 아래와 같이 구성되어있다.\n",
    "\n",
    "1. 두번째 장(관련 연구)에서는 이상 탐지 방법을 간략히 소개함. \n",
    "\n",
    "2. 세번째 장에선 univariate time-series 에 대한 LSTM-BP 알고리즘과 Multivariate Gaussian model을 다룬다\n",
    "\n",
    "3. 네번째 장에선 Multivariate time-series 에 대한 이상탐지 알고리즘 LGMAD의 전체적인 구조와 세부적인 흐름을 소개한다.\n",
    "\n",
    "4. 다섯번째 장에선(실험부분) LGMAD 알고리즘과 1)Pavel Filonov 등이 제안한 LSTM 기반 예측 데이터 모델 알고리즘, 2)Numenta에서 제안한 HTM 알고리즘[6], 3)본 논문에서 제안하는 LSTM-BP 알고리즘과 비교한다. \n",
    "\n",
    "5. 여섯번째 장에선 이 논문의 작업과 향후 작업에 대한 전망을 요약한다. \n"
   ]
  },
  {
   "cell_type": "markdown",
   "metadata": {},
   "source": [
    "---\n",
    "---\n",
    "## 3) Realated work (관련 연구)"
   ]
  },
  {
   "cell_type": "markdown",
   "metadata": {},
   "source": [
    "- 시계열 데이터에 대한 기존의 anomaly detection 은 주로 1차원에 중점을 두고, 서로 다른 시점의 데이터 샘플간의 상관관계에 따라 이상을 판단한다. \n",
    "    - 이 분야의 작업은  1) adaptive thresholding, 2) clustering, 3) exponential smoothing 등을 활용하여 발전되어왔다. \n",
    "    - 특히, three-exponential smoothing method를 사용하여 과거 데이터의 서로다른 특징으로 이상을 탐지하여 현재 데이터 값을 추측하는 방법은 매우 효과적이였다. [7]\n",
    "    - Buabco 가 제안한 ARIMA 알고리즘은 seasonal time-series 모델링을 위한 일반적인 기술로, regular data를 감지하는데는 잘 작동하지만, anomaly 가 다이나믹한 seasonal data 에 대해서는 사용할 수 없다.[9]\n",
    "    - 또한, 특정 분야에 적용되는 모델 기반 방법이 많이 있으며, 예를들어 클라우드 데이터 센터 온도 감지[10], 항공기 엔진 측정 이상감지[11], ATM  사기감지[12] 등이 있다. \n",
    "    -   \n",
    "- 최근 LSTM은 시계열 데이터 처리의 장점으로 많은 관심을 받고있으며, RNN이 Long-range correlation 을 handle 하지 못하는 단점을 개선하였다. \n",
    "- Numenta 는 HTM 알고리즘의 성능을 검증하기 위해 RNN 기반 HTM 알고리즘과 공개 데이터 세트 NAB(Numenta Anomaly Benchmark)를 제안하였다.[13]"
   ]
  },
  {
   "cell_type": "markdown",
   "metadata": {},
   "source": [
    "---\n",
    "---\n",
    "## 4) Performance problems and model \n",
    "\n",
    "### 4-1) LSTM-BP model\n",
    "- LSTM 은 Temporal recursive neural network (시간 재귀 신경망)이다.\n",
    "- 또한, 시계열 데이터 처리에 매우 적합한 것으로 입증이 되었다.\n",
    "\n",
    "- 본 논문의 이상 탐지의 기본 개념은 시계열 데이터의 다음 시간 값을 LSTM 알고리즘으로 예측하는 것이며, 예측된 값과 실제값을 비교하여 값의 편차 정도를 판단한 후 이상을 판단한다.\n",
    "\n",
    "- LSTM-BP 알고리즘은 activation function를 변경하고 Peephole connection을 추가하여 시계열 데이터를 더 잘 학습 시키고 수렴을 크게 향상 시킬수있게 개선하였다. "
   ]
  },
  {
   "cell_type": "markdown",
   "metadata": {},
   "source": [
    "### 4-2) LSTM-BP layer 구조 "
   ]
  },
  {
   "cell_type": "code",
   "execution_count": 1,
   "metadata": {},
   "outputs": [
    {
     "data": {
      "text/plain": [
       "'\\n.. image:: https://user-images.githubusercontent.com/92007351/160267392-d6648176-a42c-407c-9c58-c5e608c187fc.png\\n    :width: 600\\n'"
      ]
     },
     "execution_count": 1,
     "metadata": {},
     "output_type": "execute_result"
    }
   ],
   "source": [
    "'''\n",
    ".. image:: https://user-images.githubusercontent.com/92007351/160267392-d6648176-a42c-407c-9c58-c5e608c187fc.png\n",
    "    :width: 600\n",
    "'''"
   ]
  },
  {
   "cell_type": "markdown",
   "metadata": {},
   "source": []
  }
 ],
 "metadata": {
  "interpreter": {
   "hash": "d79fc695054af57b4b030b694aa773b6d747f09c2c7dac24f57f4c3dbaa9415d"
  },
  "kernelspec": {
   "display_name": "Python 3.8.10 64-bit ('oplib')",
   "language": "python",
   "name": "python3"
  },
  "language_info": {
   "codemirror_mode": {
    "name": "ipython",
    "version": 3
   },
   "file_extension": ".py",
   "mimetype": "text/x-python",
   "name": "python",
   "nbconvert_exporter": "python",
   "pygments_lexer": "ipython3",
   "version": "3.8.10"
  },
  "orig_nbformat": 4
 },
 "nbformat": 4,
 "nbformat_minor": 2
}
