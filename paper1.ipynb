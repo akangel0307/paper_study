{
 "cells": [
  {
   "cell_type": "markdown",
   "metadata": {},
   "source": [
    "# 01. Paper Study (3/31)\n",
    "##  Real-time anomaly detection based on long short-Term memory and Gaussian Mixture Model\n",
    "- paper_link : https://bit.ly/3IttW0S\n",
    "- github_link : https://github.com/IoTLabDLUT/LGDAM"
   ]
  },
  {
   "cell_type": "markdown",
   "metadata": {},
   "source": [
    "---\n",
    "## 1) Abstract \n",
    "- 기존의 anomaly detection 알고리즘은 효율성(effectiveness)과 real-time capability requirements를 동시에 충족하는데 덜 적합하였다.\n",
    "- 해당 논문에서는 *LSTM*(Long-short Term Memory) 및 *GMM*(Gaussian Mixture Model)기반의 real-time anomaly detection 알고리즘인 *LGMAD*를 제안하였다. \n",
    "\n",
    "### 논문 컨셉\n",
    "- 구제척으로, LSTM 모델을 통해 각*Univariate Time-series의 real-time anomaly 를 평가하고, GMM을 통해 가능한 anomaly 에 대한 *multidimensional joint 를 제공한다. \n",
    "\n",
    "### 활용한 데이터 \n",
    "- NAB dataset과 self-made dataset 모두 approach하는데 사용함. 또한 기존의 이상탐지 알고리즘과 비교하였음. "
   ]
  },
  {
   "cell_type": "markdown",
   "metadata": {},
   "source": [
    "### 용어 공부\n",
    "- *Univarate timeseries \n",
    "    - '시간-기온', '시간-풍속' 과 같이 시간에 종속되는 변수가 하나뿐인 경우를 Univarate Time Series 하고 한다. 반대로 날씨를 예를들면 강수량, 습도, 바람 등이 복합적으로 고려되어야 날씨를 예측할 수 있으며, 이렇게 각각의 종속 변수가 시간뿐만 아니라 다른 종속 변수에도 영향을 받아 복잡한 시계열을 이루는 경우를 Multivariate Time Series 라고 한다.  \n",
    "- *multidimensional joint\n",
    "    - 다차원 결합을 제공한다는게 무엇인가? GMM 공부를 해야 알수 있는 내용? "
   ]
  },
  {
   "cell_type": "markdown",
   "metadata": {},
   "source": [
    "---\n",
    "## 2) Introduction \n",
    "- 이상탐지는 많은 이슈가 되고있으며, 이상 지점 또는 이상영역을 감지하고 찾는건 중요한 정보를 제공할수 있다고함. \n",
    "- 특히, Time-series 데이터에 대한 이상탐지는 산업, 금융, 군사, 의료, 보험, 중요 시스템 보안, 로봇공학, 다중 에이전트, 네트워크 보안 및 사물 인터넷 분야에서 매우 중요하다. [1],[2]\n",
    "\n",
    "- 실제 이상탐지로 시스템 붕괴를 막은 예시 [3]\n",
    "- 이상 탐지의 중요성을 보여주는 예시로, 애플리케이션에서 이상탐지로 개발을 가속화 한 케이스 [4],[5]\n",
    "====================\n",
    "### 본론 \n",
    "- 이 논문에서는 low-dimension parameter 를 사용하여 시스템의 anomaly states 를 특성화 하는 application 을 제안하며, 이를 LGMAD 로 제안함. \n",
    "    - TODO: Q) low-dimension으로 anomaly states 를 특성화하면 간편하긴해도 정확성 측면에서 문제가 되지 않을까? \n",
    "- LSTM-BP algorithm을 사용하여 univarate time-series 감지를 기반으로 하는 Gaussianㅡㅐ\n"
   ]
  },
  {
   "cell_type": "markdown",
   "metadata": {},
   "source": [
    "페이퍼 스터디 이후 정리하기 위한 개인 Git page \n"
   ]
  },
  {
   "cell_type": "markdown",
   "metadata": {},
   "source": []
  }
 ],
 "metadata": {
  "language_info": {
   "name": "python"
  },
  "orig_nbformat": 4
 },
 "nbformat": 4,
 "nbformat_minor": 2
}
